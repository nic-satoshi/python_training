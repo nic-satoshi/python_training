{
 "cells": [
  {
   "cell_type": "code",
   "execution_count": 2,
   "metadata": {},
   "outputs": [],
   "source": [
    "## Joining list\n",
    "\n"
   ]
  },
  {
   "cell_type": "code",
   "execution_count": null,
   "metadata": {},
   "outputs": [
    {
     "name": "stdout",
     "output_type": "stream",
     "text": [
      "['🍎', '🍊', '🍓', '🍍', '🍎', '🍊', '🍓', '🍍']\n"
     ]
    }
   ],
   "source": [
    "fruits = [\"🍎\", \"🍊\", \"🍓\", \"🍍\"]\n",
    "vegetables = [\"🥕\", \"🥒\", \"🍆\", \"🥔\"]\n",
    "basket = fruits + vegetables\n",
    "\n"
   ]
  },
  {
   "cell_type": "markdown",
   "metadata": {},
   "source": [
    "## List to String"
   ]
  },
  {
   "cell_type": "code",
   "execution_count": 18,
   "metadata": {},
   "outputs": [
    {
     "name": "stdout",
     "output_type": "stream",
     "text": [
      "🍎, 🍊, 🍓, 🍍\n"
     ]
    }
   ],
   "source": [
    "fruits = [\"🍎\", \"🍊\", \"🍓\", \"🍍\"]\n",
    "print(\", \".join(fruits))\n"
   ]
  },
  {
   "cell_type": "markdown",
   "metadata": {},
   "source": [
    "## String to List"
   ]
  },
  {
   "cell_type": "markdown",
   "metadata": {},
   "source": [
    " - `split()`\n",
    " - `split()` `join()`❌ "
   ]
  },
  {
   "cell_type": "code",
   "execution_count": 20,
   "metadata": {},
   "outputs": [
    {
     "name": "stdout",
     "output_type": "stream",
     "text": [
      "['mint', 'chocolate', 'vanilla']\n"
     ]
    }
   ],
   "source": [
    "ice_creams = \"mint|chocolate|vanilla\"\n",
    "print(ice_creams.split(\"|\"))"
   ]
  },
  {
   "cell_type": "code",
   "execution_count": 23,
   "metadata": {},
   "outputs": [
    {
     "name": "stdout",
     "output_type": "stream",
     "text": [
      "[100, 200, 300, 500]\n",
      "[100, 200, 400]\n",
      "[100, 200, 300, 500]\n"
     ]
    }
   ],
   "source": [
    "num1 = [100, 200]\n",
    "num2 = [100, 200]\n",
    "num3 = num1\n",
    "\n",
    "num1.append(300)\n",
    "num2.append(400)\n",
    "num3.append(500)\n",
    "\n",
    "print(num1)\n",
    "print(num2)\n",
    "print(num3)"
   ]
  }
 ],
 "metadata": {
  "kernelspec": {
   "display_name": "Python 3",
   "language": "python",
   "name": "python3"
  },
  "language_info": {
   "codemirror_mode": {
    "name": "ipython",
    "version": 3
   },
   "file_extension": ".py",
   "mimetype": "text/x-python",
   "name": "python",
   "nbconvert_exporter": "python",
   "pygments_lexer": "ipython3",
   "version": "3.13.0"
  }
 },
 "nbformat": 4,
 "nbformat_minor": 2
}
