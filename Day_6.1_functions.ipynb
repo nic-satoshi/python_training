{
 "cells": [
  {
   "cell_type": "markdown",
   "metadata": {},
   "source": [
    "# Functions\n",
    "\n",
    " - Reuse logic"
   ]
  },
  {
   "cell_type": "code",
   "execution_count": 2,
   "metadata": {},
   "outputs": [
    {
     "name": "stdout",
     "output_type": "stream",
     "text": [
      "7\n"
     ]
    }
   ],
   "source": [
    "t1 = 3\n",
    "t2 = 4\n",
    "\n",
    "t_sum = t1 + t2 #logic\n",
    "\n",
    "print(t_sum)"
   ]
  },
  {
   "cell_type": "code",
   "execution_count": 3,
   "metadata": {},
   "outputs": [
    {
     "name": "stdout",
     "output_type": "stream",
     "text": [
      "90\n"
     ]
    }
   ],
   "source": [
    "t1 = 50\n",
    "t2 = 40\n",
    "\n",
    "t_sum = t1 + t2 #logic\n",
    "\n",
    "print(t_sum)"
   ]
  },
  {
   "cell_type": "markdown",
   "metadata": {},
   "source": [
    "## Define function (Dunction decolation / Function definition)"
   ]
  },
  {
   "cell_type": "code",
   "execution_count": 4,
   "metadata": {},
   "outputs": [],
   "source": [
    "def add(n1,n2):\n",
    "    n_sum = round(n1+n2,2)\n",
    "    return n_sum # returning to the call"
   ]
  },
  {
   "cell_type": "markdown",
   "metadata": {},
   "source": [
    "## Call function"
   ]
  },
  {
   "cell_type": "code",
   "execution_count": 5,
   "metadata": {},
   "outputs": [
    {
     "name": "stdout",
     "output_type": "stream",
     "text": [
      "3\n",
      "300.8\n",
      "333.33\n"
     ]
    }
   ],
   "source": [
    "print(add(1,2))\n",
    "print(add(100.1234,200.6789))\n",
    "print(add(111.111,222.222))"
   ]
  },
  {
   "cell_type": "code",
   "execution_count": 6,
   "metadata": {},
   "outputs": [
    {
     "name": "stdout",
     "output_type": "stream",
     "text": [
      "hello\n"
     ]
    }
   ],
   "source": [
    "def displayTheMessageForYoshika():\n",
    "    print(\"hello\")\n",
    "\n",
    "displayTheMessageForYoshika()\n"
   ]
  },
  {
   "cell_type": "markdown",
   "metadata": {},
   "source": []
  },
  {
   "cell_type": "code",
   "execution_count": 7,
   "metadata": {},
   "outputs": [
    {
     "name": "stdout",
     "output_type": "stream",
     "text": [
      "🍓\n",
      "🍓🍓\n",
      "🍍\n",
      "🍍🍍\n",
      "🍍🍍🍍\n",
      "🍍🍍🍍🍍\n",
      "🍍🍍🍍🍍🍍\n",
      "🍍🍍🍍🍍🍍🍍\n",
      "🥕\n",
      "🥕🥕\n",
      "🥕🥕🥕\n",
      "🥕🥕🥕🥕\n"
     ]
    }
   ],
   "source": [
    "\n",
    "def fire(row, pattern):\n",
    "    i = 1\n",
    "    while i <= row:\n",
    "        print(pattern * i)\n",
    "        i = i + 1\n",
    "\n",
    "fire(2, \"🍓\") # call\n",
    "fire(6, \"🍍\") \n",
    "fire(4, \"🥕\")"
   ]
  },
  {
   "cell_type": "markdown",
   "metadata": {},
   "source": [
    "\n",
    "## Tasks\n",
    " \n",
    " 1. `get_total_items(shop)` -> 50\n",
    " 2. `get_shop_value(shop)` -> 19\n",
    "\n",
    " \n",
    "shop = [\n",
    "    {\"name\": \"Apple\", \"quantity\": 30, \"price\": 0.50}, # 15\n",
    "    {\"name\": \"Banana\", \"quantity\": 20, \"price\": 0.20}, # 4\n",
    "]"
   ]
  },
  {
   "cell_type": "code",
   "execution_count": 8,
   "metadata": {},
   "outputs": [
    {
     "name": "stdout",
     "output_type": "stream",
     "text": [
      "50\n",
      "19.0\n"
     ]
    }
   ],
   "source": [
    "shop = [\n",
    "    {\"name\": \"Apple\", \"quantity\": 30, \"price\": 0.50},\n",
    "    {\"name\": \"Banana\", \"quantity\": 20, \"price\": 0.20},\n",
    "]\n",
    "\n",
    "def get_total_items(shop):\n",
    "\n",
    "    total_item = 0\n",
    "    for item in shop:\n",
    "        total_item += item[\"quantity\"]\n",
    "    return total_item\n",
    "\n",
    "def get_shop_value(shop):\n",
    "    values = [item[\"quantity\"]*item[\"price\"] for item in shop]\n",
    "    return sum(values)\n",
    "\n",
    "print(get_total_items(shop))\n",
    "print(get_shop_value(shop))"
   ]
  },
  {
   "cell_type": "code",
   "execution_count": 9,
   "metadata": {},
   "outputs": [
    {
     "name": "stdout",
     "output_type": "stream",
     "text": [
      "50\n"
     ]
    }
   ],
   "source": [
    "def get_total_items(shop):\n",
    "    total_items = [item[\"quantity\"] for item in shop]\n",
    "    return sum(total_items)\n",
    "print(get_total_items(shop))"
   ]
  },
  {
   "cell_type": "markdown",
   "metadata": {},
   "source": [
    "## Task 1\n",
    "\n",
    "`add_new_product(shop)`\n",
    "\n",
    "\n",
    "Expected Output\n",
    "```\n",
    "What is the product name? Orange\n",
    "What is the quantity? 50\n",
    "What is the price? 0.30\n",
    "Added Orange to shop.\n",
    "```\n",
    "\n",
    "`print(shop)`"
   ]
  },
  {
   "cell_type": "code",
   "execution_count": 10,
   "metadata": {},
   "outputs": [
    {
     "name": "stdout",
     "output_type": "stream",
     "text": [
      "[{'name': 'Apple', 'quantity': 30, 'price': 0.5}, {'name': 'Banana', 'quantity': 20, 'price': 0.2}, {'name': '1', 'quantity': 1, 'price': 1.0}]\n"
     ]
    }
   ],
   "source": [
    "shop = [\n",
    "    {\"name\": \"Apple\", \"quantity\": 30, \"price\": 0.50},\n",
    "    {\"name\": \"Banana\", \"quantity\": 20, \"price\": 0.20},\n",
    "]\n",
    "\n",
    "def add_new_product(shop):\n",
    "    name = input(\"What is the product name? \")\n",
    "    quantity = int(input(\"What is the quantity? \"))\n",
    "    price = float(input(\"What is the price? \"))\n",
    "    shop.append({\"name\": name, \"quantity\": quantity, \"price\": price})\n",
    "\n",
    "add_new_product(shop)\n",
    "print(shop)"
   ]
  },
  {
   "cell_type": "markdown",
   "metadata": {},
   "source": [
    "## Task 2\n",
    "\n",
    "Do you add more Y/N? Y"
   ]
  },
  {
   "cell_type": "code",
   "execution_count": 11,
   "metadata": {},
   "outputs": [
    {
     "name": "stdout",
     "output_type": "stream",
     "text": [
      "[{'name': 'Apple', 'quantity': 30, 'price': 0.5}, {'name': 'Banana', 'quantity': 20, 'price': 0.2}, {'name': '1', 'quantity': 1, 'price': 1.0}, {'name': '1', 'quantity': 1, 'price': 1.0}]\n"
     ]
    }
   ],
   "source": [
    "shop = [\n",
    "    {\"name\": \"Apple\", \"quantity\": 30, \"price\": 0.50},\n",
    "    {\"name\": \"Banana\", \"quantity\": 20, \"price\": 0.20},\n",
    "]\n",
    "\n",
    "def add_new_product(shop):\n",
    "    while True:\n",
    "        name = input(\"What is the product name? \")\n",
    "        quantity = int(input(\"What is the quantity? \"))\n",
    "        price = float(input(\"What is the price? \"))\n",
    "        shop.append({\"name\": name, \"quantity\": quantity, \"price\": price})\n",
    "        if input(\"Do you add more Y/N? \") == \"N\":\n",
    "            break\n",
    "\n",
    "add_new_product(shop)\n",
    "print(shop)"
   ]
  },
  {
   "cell_type": "markdown",
   "metadata": {},
   "source": [
    "## Task 3\n",
    "\n",
    "Main Menu\n",
    "1. Add Product\n",
    "2. Print all product in shop\n",
    "3. Exit\n",
    "\n",
    "What you liked about the training?"
   ]
  },
  {
   "cell_type": "code",
   "execution_count": 13,
   "metadata": {},
   "outputs": [
    {
     "name": "stdout",
     "output_type": "stream",
     "text": [
      "Main Menu\n",
      "      \n",
      "        1. Add Product\n",
      "        2. Print all product in shop\n",
      "        3. Exit\n",
      "          \n",
      "[{'name': 'Apple', 'quantity': 30, 'price': 0.5}, {'name': 'Banana', 'quantity': 20, 'price': 0.2}, {'name': 'orange', 'quantity': 50, 'price': 0.3}]\n",
      "Main Menu\n",
      "      \n",
      "        1. Add Product\n",
      "        2. Print all product in shop\n",
      "        3. Exit\n",
      "          \n",
      "[{'name': 'Apple', 'quantity': 30, 'price': 0.5}, {'name': 'Banana', 'quantity': 20, 'price': 0.2}, {'name': 'orange', 'quantity': 50, 'price': 0.3}]\n",
      "Main Menu\n",
      "      \n",
      "        1. Add Product\n",
      "        2. Print all product in shop\n",
      "        3. Exit\n",
      "          \n",
      "Bye\n"
     ]
    }
   ],
   "source": [
    "shop = [\n",
    "    {\"name\": \"Apple\", \"quantity\": 30, \"price\": 0.50},\n",
    "    {\"name\": \"Banana\", \"quantity\": 20, \"price\": 0.20},\n",
    "]\n",
    "\n",
    "def add_new_product(shop):\n",
    "    while True:\n",
    "        name = input(\"What is the product name? \")\n",
    "        quantity = int(input(\"What is the quantity? \"))\n",
    "        price = float(input(\"What is the price? \"))\n",
    "        shop.append({\"name\": name, \"quantity\": quantity, \"price\": price})\n",
    "        print(shop)\n",
    "        if input(\"Do you add more Y/N? \") == \"N\":\n",
    "            break\n",
    "\n",
    "def showMainMenu():\n",
    "    print(\"\"\"Main Menu\n",
    "      \n",
    "        1. Add Product\n",
    "        2. Print all product in shop\n",
    "        3. Exit\n",
    "          \"\"\")\n",
    "\n",
    "while True:\n",
    "    showMainMenu()\n",
    "    num = int(input(\"What you liked about the training? \"))\n",
    "\n",
    "    if num == 1:\n",
    "        add_new_product(shop)\n",
    "    elif num == 2:\n",
    "        print(shop)\n",
    "    else:\n",
    "        print(\"Bye\")\n",
    "        break\n"
   ]
  },
  {
   "cell_type": "code",
   "execution_count": null,
   "metadata": {},
   "outputs": [],
   "source": []
  }
 ],
 "metadata": {
  "kernelspec": {
   "display_name": "Python 3",
   "language": "python",
   "name": "python3"
  },
  "language_info": {
   "codemirror_mode": {
    "name": "ipython",
    "version": 3
   },
   "file_extension": ".py",
   "mimetype": "text/x-python",
   "name": "python",
   "nbconvert_exporter": "python",
   "pygments_lexer": "ipython3",
   "version": "3.13.0"
  }
 },
 "nbformat": 4,
 "nbformat_minor": 2
}
