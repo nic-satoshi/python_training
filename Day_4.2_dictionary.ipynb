{
 "cells": [
  {
   "cell_type": "markdown",
   "metadata": {},
   "source": [
    "# Dictionary\n",
    "\n",
    "store mixed & multiple values"
   ]
  },
  {
   "cell_type": "code",
   "execution_count": 1,
   "metadata": {},
   "outputs": [
    {
     "name": "stdout",
     "output_type": "stream",
     "text": [
      "20\n"
     ]
    }
   ],
   "source": [
    "luffy =  {\n",
    "    \"name\":\"Monkey D. Luffy\",\n",
    "    \"age\":19,\n",
    "    \"crew_name\":\"straw hat pirates\",\n",
    "    \"crew\":[\"Zoro\",\"Sanji\",\"Nami\",\"Chopper\"],\n",
    "    \"position\":\"Captain\"\n",
    "}\n",
    "\n",
    "# get all values\n",
    "# print(luffy.values())\n",
    "\n",
    "# get all keys\n",
    "# print(luffy.keys())\n",
    "\n",
    "# get all items\n",
    "# print(luffy.items())\n",
    "\n",
    "luffy[\"age\"] += 1\n",
    "# luffy[\"age\"] = luffy[\"age\"] + 1\n",
    "print(luffy[\"age\"])\n",
    "\n"
   ]
  },
  {
   "cell_type": "markdown",
   "metadata": {},
   "source": [
    "## Task 1.1\n",
    "Please provide the list of book titles\n",
    "\n",
    "\n",
    "```python\n",
    "books = [\n",
    "    {\"title\": \"Infinite Jest\", \"rating\": 4.5, \"genre\": \"Fiction\"},\n",
    "    {\"title\": \"The Catcher in the Rye\", \"rating\": 3.9, \"genre\": \"Fiction\"},\n",
    "    {\"title\": \"Sapiens\", \"rating\": 4.9, \"genre\": \"History\"},\n",
    "    {\"title\": \"A Brief History of Time\", \"rating\": 4.8, \"genre\": \"Science\"},\n",
    "    {\"title\": \"Clean Code\", \"rating\": 4.7, \"genre\": \"Technology\"},\n",
    "]\n",
    "\n",
    "```\n",
    "\n",
    "### Expected Output"
   ]
  },
  {
   "cell_type": "code",
   "execution_count": null,
   "metadata": {},
   "outputs": [
    {
     "name": "stdout",
     "output_type": "stream",
     "text": [
      "['Infinite Jest', 'The Catcher in the Rye', 'Sapiens', 'A Brief History of Time', 'Clean Code']\n",
      "['Infinite Jest', 'The Catcher in the Rye']\n",
      "Highest rated books are: Sapiens, A Brief History of Time and Clean Code\n",
      "1. ['Sapiens', 'A Brief History of Time', 'Clean Code']\n",
      "2. ['Sapiens', 'A Brief History of Time', 'Clean Code']\n",
      "3. ['Sapiens', 'A Brief History of Time']\n",
      "4. ['Sapiens', 'A Brief History of Time']\n",
      "5. ['A Brief History of Time']\n",
      "6. []\n",
      "7. Clean Code\n"
     ]
    }
   ],
   "source": [
    "books = [\n",
    "    {\"title\": \"Infinite Jest\", \"rating\": 4.5, \"genre\": \"Fiction\"},\n",
    "    {\"title\": \"The Catcher in the Rye\", \"rating\": 3.9, \"genre\": \"Fiction\"},\n",
    "    {\"title\": \"Sapiens\", \"rating\": 4.9, \"genre\": \"history\"},\n",
    "    {\"title\": \"A Brief History of Time\", \"rating\": 4.8, \"genre\": \"Science\"},\n",
    "    {\"title\": \"Clean Code\", \"rating\": 4.7, \"genre\": \"Technology\"},\n",
    "]\n",
    "\n",
    "# task1\n",
    "title_list = []\n",
    "for book in books:\n",
    "    title_list.append(book[\"title\"])\n",
    "print(title_list)\n",
    "\n",
    "# task2\n",
    "fiction_list = []\n",
    "for book in books:\n",
    "    if book[\"genre\"] == \"Fiction\":\n",
    "        fiction_list.append(book[\"title\"])\n",
    "print(fiction_list)\n",
    "\n",
    "# task3\n",
    "highest_rated_list = []\n",
    "for book in books:\n",
    "    if book[\"rating\"] >= 4.7:\n",
    "        highest_rated_list.append(book[\"title\"])\n",
    "\n",
    "highest_rated_list_string = \", \".join(highest_rated_list[:-1])+\" and \"+highest_rated_list[-1]\n",
    "print(f\"Highest rated books are: {highest_rated_list_string}\")\n",
    "\n",
    "# print(\"1.\",highest_rated_list)\n",
    "# print(\"2.\",highest_rated_list[0:])\n",
    "# print(\"3.\",highest_rated_list[0:-1])\n",
    "# print(\"4.\",highest_rated_list[:-1])\n",
    "# print(\"5.\",highest_rated_list[1:-1])\n",
    "# print(\"6.\",highest_rated_list[2:-1])\n",
    "# print(\"7.\",highest_rated_list[-1])"
   ]
  },
  {
   "cell_type": "code",
   "execution_count": 3,
   "metadata": {},
   "outputs": [
    {
     "data": {
      "text/plain": [
       "['e', 'f']"
      ]
     },
     "execution_count": 3,
     "metadata": {},
     "output_type": "execute_result"
    }
   ],
   "source": [
    "temp = ['a', 'b', 'c', 'd', 'e', 'f']\n",
    "\n",
    "temp[-2:]"
   ]
  },
  {
   "cell_type": "markdown",
   "metadata": {},
   "source": [
    "## Task 1.4\n",
    "\n",
    "Get fav genre from user\n",
    "\n",
    "### Expected Output\n",
    "\n",
    "```\n",
    "Genre? Fiction\n",
    "Average rating of Fiction: 4.2\n",
    "```"
   ]
  },
  {
   "cell_type": "code",
   "execution_count": null,
   "metadata": {},
   "outputs": [
    {
     "name": "stdout",
     "output_type": "stream",
     "text": [
      "Average rating of Fiction: 4.2\n"
     ]
    }
   ],
   "source": [
    "genre = input(\"input genre : \")\n",
    "\n",
    "target_list = []\n",
    "for book in books:\n",
    "    if book[\"genre\"].lower() == genre.lower():\n",
    "        target_list.append(book[\"rating\"])\n",
    "\n",
    "if len(target_list) != 0:\n",
    "    print(f\"Average rating of Fiction: {sum(target_list)/len(target_list)}\")\n",
    "else:\n",
    "    print(f\"There is no {genre}\")\n",
    "\n",
    "\n"
   ]
  },
  {
   "cell_type": "code",
   "execution_count": null,
   "metadata": {},
   "outputs": [],
   "source": []
  },
  {
   "cell_type": "code",
   "execution_count": null,
   "metadata": {},
   "outputs": [],
   "source": []
  }
 ],
 "metadata": {
  "kernelspec": {
   "display_name": "Python 3",
   "language": "python",
   "name": "python3"
  },
  "language_info": {
   "codemirror_mode": {
    "name": "ipython",
    "version": 3
   },
   "file_extension": ".py",
   "mimetype": "text/x-python",
   "name": "python",
   "nbconvert_exporter": "python",
   "pygments_lexer": "ipython3",
   "version": "3.13.0"
  }
 },
 "nbformat": 4,
 "nbformat_minor": 2
}
