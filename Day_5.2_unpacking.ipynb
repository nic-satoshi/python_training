{
 "cells": [
  {
   "cell_type": "code",
   "execution_count": 4,
   "metadata": {},
   "outputs": [
    {
     "name": "stdout",
     "output_type": "stream",
     "text": [
      "[100, 70, 90, 40]\n"
     ]
    }
   ],
   "source": [
    "marks = [80, 70, 90, 40]\n",
    "marks[0] = 100\n",
    "print(marks)"
   ]
  },
  {
   "cell_type": "markdown",
   "metadata": {},
   "source": [
    "# Tuple - Immutable (Cannot change)\n",
    "Same as list but cannot modify (cannot mutate)"
   ]
  },
  {
   "cell_type": "code",
   "execution_count": 10,
   "metadata": {},
   "outputs": [
    {
     "name": "stdout",
     "output_type": "stream",
     "text": [
      "2\n",
      "5\n"
     ]
    }
   ],
   "source": [
    "marks = (80, 70, 90, 40, 80)\n",
    "\n",
    "print(marks.count(80))\n",
    "print(len(marks))"
   ]
  },
  {
   "cell_type": "code",
   "execution_count": null,
   "metadata": {},
   "outputs": [
    {
     "name": "stdout",
     "output_type": "stream",
     "text": [
      "('🍎', '🍊', '🍓', '🍍', '🥕', '🥒', '🍆', '🥔')\n",
      "('🍎', '🍊', '🍓', '🍍', '🍎', '🍊', '🍓', '🍍')\n"
     ]
    }
   ],
   "source": [
    "fruits = (\"🍎\", \"🍊\", \"🍓\", \"🍍\")\n",
    "vegetables = (\"🥕\", \"🥒\", \"🍆\", \"🥔\")\n",
    "\n",
    "print(fruits + vegetables)\n",
    "print(fruits*2)\n",
    "\n"
   ]
  },
  {
   "cell_type": "code",
   "execution_count": 23,
   "metadata": {},
   "outputs": [
    {
     "name": "stdout",
     "output_type": "stream",
     "text": [
      "20\n"
     ]
    }
   ],
   "source": [
    "(a,b,c) = (10,20,30)\n",
    "print(b)\n"
   ]
  },
  {
   "cell_type": "code",
   "execution_count": null,
   "metadata": {},
   "outputs": [],
   "source": [
    "\n"
   ]
  },
  {
   "cell_type": "code",
   "execution_count": 27,
   "metadata": {},
   "outputs": [
    {
     "name": "stdout",
     "output_type": "stream",
     "text": [
      "🦸‍♂️ Batman 🦸‍♂️ Superman\n"
     ]
    }
   ],
   "source": [
    "# Unpack only Batman & Superman\n",
    "a,b,_,_ =  [\"🦸‍♂️ Batman\", \"🦸‍♂️ Superman\", \"🦹‍♂️ Joker\", \"🦹‍♀️ Harley Quinn\"]\n",
    "\n",
    "print(a,b)"
   ]
  },
  {
   "cell_type": "markdown",
   "metadata": {},
   "source": [
    "## Task 1.1 (Without Unpacking)\n",
    "\n",
    "points = [(3, 4), (6, 12) , (10, 13)]\n",
    "\n",
    "\n",
    "## Expected Output\n",
    "\n",
    "distances = [5, 13.41, 16.40]"
   ]
  },
  {
   "cell_type": "code",
   "execution_count": 47,
   "metadata": {},
   "outputs": [
    {
     "name": "stdout",
     "output_type": "stream",
     "text": [
      "[5.0, 13.42, 16.4]\n"
     ]
    }
   ],
   "source": [
    "points = [(3,4),(6,12),(10,13)]\n",
    "distances = [round((point[0]**2+point[1]**2)**0.5,2)\\\n",
    "              for point in points]\n",
    "print(distances)\n"
   ]
  },
  {
   "cell_type": "markdown",
   "metadata": {},
   "source": [
    "## Task 1.2 (With Unpacking)\n",
    "\n",
    "points = [(3, 4), (6, 12) , (10, 13)]\n",
    "\n",
    "\n",
    "## Expected Output\n",
    "\n",
    "distances = [5, 13.41, 16.40]"
   ]
  },
  {
   "cell_type": "code",
   "execution_count": 45,
   "metadata": {},
   "outputs": [
    {
     "name": "stdout",
     "output_type": "stream",
     "text": [
      "5.0 13.42 16.4\n"
     ]
    }
   ],
   "source": [
    "points = [(3,4),(6,12),(10,13)]\n",
    "a,b,c = [round((point[0]**2+point[1]**2)**0.5,2) \\\n",
    "         for point in points]\n",
    "print(a,b,c)"
   ]
  }
 ],
 "metadata": {
  "kernelspec": {
   "display_name": "Python 3",
   "language": "python",
   "name": "python3"
  },
  "language_info": {
   "codemirror_mode": {
    "name": "ipython",
    "version": 3
   },
   "file_extension": ".py",
   "mimetype": "text/x-python",
   "name": "python",
   "nbconvert_exporter": "python",
   "pygments_lexer": "ipython3",
   "version": "3.13.0"
  }
 },
 "nbformat": 4,
 "nbformat_minor": 2
}
