{
 "cells": [
  {
   "cell_type": "code",
   "execution_count": 3,
   "metadata": {},
   "outputs": [
    {
     "name": "stdout",
     "output_type": "stream",
     "text": [
      "🍧\n",
      "🍧🍧\n",
      "🍧🍧🍧\n",
      "🍧🍧🍧🍧\n",
      "🍧🍧🍧🍧🍧\n"
     ]
    }
   ],
   "source": [
    "no_of_rows = 5\n",
    "pattern = \"🍧\"\n",
    "for i in range(1, no_of_rows + 1):\n",
    "    print(f\"{pattern*i}\")"
   ]
  },
  {
   "cell_type": "markdown",
   "metadata": {},
   "source": [
    "## Below is for caluclating area of circle\n",
    "\n",
    "## `range(start:end)`\n",
    "`range()` is usualy used with for loop \n",
    "- always **starts** with 0\n",
    "    1. oh\n",
    "    2. my\n",
    "- end is *not included*\n",
    "    - aaa\n",
    "    - aaa\n",
    "        - aa\n",
    "    \n",
    "\n",
    "> xxx\n",
    "> yyy\n",
    "\n",
    "print(\"\")\n",
    "\n",
    "```java\n",
    "    if True:\n",
    "        print(\"xxx\")\n",
    "    else:\n",
    "        print(\"yyy\")\n",
    "```\n",
    "radius = input(\"Please tell me the radius of the circle? \")\n",
    "area = 3.14*float(radius)**2\n",
    "print(\"Area of the cirlce : \" + str(area))"
   ]
  }
 ],
 "metadata": {
  "kernelspec": {
   "display_name": "Python 3",
   "language": "python",
   "name": "python3"
  },
  "language_info": {
   "codemirror_mode": {
    "name": "ipython",
    "version": 3
   },
   "file_extension": ".py",
   "mimetype": "text/x-python",
   "name": "python",
   "nbconvert_exporter": "python",
   "pygments_lexer": "ipython3",
   "version": "3.13.0"
  }
 },
 "nbformat": 4,
 "nbformat_minor": 2
}
