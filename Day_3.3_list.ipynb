{
 "cells": [
  {
   "cell_type": "markdown",
   "metadata": {},
   "source": [
    "### list\n",
    "\n",
    "```py\n",
    "mark1 = 80\n",
    "mark2 = 90\n",
    "mark3 = 100\n",
    "```\n",
    "\n",
    "- hold multiple values\n",
    "\n",
    "### CRUD\n",
    "\n",
    "- Create ✅  - `marks = [80, 90, 100, 60, 85]`\n",
    "- Read   ✅  - `index` & `slice (:)`\n",
    "- Update ✅  - `append` &  `insert` \n",
    "- Delete ✅  - `remove` & `pop`"
   ]
  },
  {
   "cell_type": "code",
   "execution_count": 10,
   "metadata": {},
   "outputs": [
    {
     "name": "stdout",
     "output_type": "stream",
     "text": [
      "[80, 90.1, 100, 60, 85]\n"
     ]
    }
   ],
   "source": [
    "marks = [80,90.1,100,60,85]\n",
    "print(marks)"
   ]
  },
  {
   "cell_type": "code",
   "execution_count": 14,
   "metadata": {},
   "outputs": [
    {
     "name": "stdout",
     "output_type": "stream",
     "text": [
      "85\n",
      "85\n"
     ]
    }
   ],
   "source": [
    "print(marks[4])\n",
    "print(marks[-1])"
   ]
  },
  {
   "cell_type": "markdown",
   "metadata": {},
   "source": [
    "## Slice operator"
   ]
  },
  {
   "cell_type": "code",
   "execution_count": 17,
   "metadata": {},
   "outputs": [
    {
     "name": "stdout",
     "output_type": "stream",
     "text": [
      "[80, 90.1, 100, 60, 85]\n",
      "85\n",
      "[85, 60, 100, 90.1, 80]\n"
     ]
    }
   ],
   "source": [
    "print(marks)\n",
    "print(marks[-1]) # get the last one\n",
    "print(marks[::-1]) # reverse the list"
   ]
  },
  {
   "cell_type": "markdown",
   "metadata": {},
   "source": [
    "## List Methods\n",
    "- `append()`"
   ]
  },
  {
   "cell_type": "code",
   "execution_count": 21,
   "metadata": {},
   "outputs": [
    {
     "name": "stdout",
     "output_type": "stream",
     "text": [
      "[80, 90.1, 100, 60, 85]\n",
      "[80, 90.1, 100, 60, 85, 50]\n"
     ]
    }
   ],
   "source": [
    "marks = [80,90.1,100,60,85]\n",
    "print(marks)\n",
    "makrs = marks.append(50)\n",
    "print(marks)"
   ]
  },
  {
   "cell_type": "markdown",
   "metadata": {},
   "source": [
    "len(marks)"
   ]
  },
  {
   "cell_type": "code",
   "execution_count": 22,
   "metadata": {},
   "outputs": [
    {
     "name": "stdout",
     "output_type": "stream",
     "text": [
      "6\n"
     ]
    }
   ],
   "source": [
    "print(len(marks))"
   ]
  },
  {
   "cell_type": "markdown",
   "metadata": {},
   "source": [
    "`append()` add at end\n",
    "`insert(inedex, value)` insert value in index \n",
    "`pop(index)` remove by index\n",
    "`remove(value)` remove by value"
   ]
  },
  {
   "cell_type": "code",
   "execution_count": 26,
   "metadata": {},
   "outputs": [
    {
     "name": "stdout",
     "output_type": "stream",
     "text": [
      "['Frieren', 'Gohan', 'zoro', 'Goku', 'Gon', 'Pikachu', 'Itadori']\n",
      "['Frieren', 'Gohan', 'zoro', 'Gon', 'Pikachu', 'Itadori']\n"
     ]
    }
   ],
   "source": [
    "anime = [\"Frieren\", \"Gohan\", \"Goku\", \"Gon\", \"Pikachu\", \"Itadori\"]\n",
    "anime.insert(2,\"zoro\")\n",
    "print(anime)\n",
    "anime.pop(3)\n",
    "print(anime)"
   ]
  },
  {
   "cell_type": "code",
   "execution_count": null,
   "metadata": {},
   "outputs": [
    {
     "name": "stdout",
     "output_type": "stream",
     "text": [
      "[160, 180, 200, 120, 170]\n"
     ]
    }
   ],
   "source": [
    "# Task: Double all the numbers\n",
    "# Output\n",
    "# [160, 180, 200, 120, 170]\n",
    "\n",
    "marks = [80,90,100,60,85]\n",
    "for i in range(len(marks)):\n",
    "    marks[i]=marks[i]*2\n",
    "print(marks)"
   ]
  },
  {
   "cell_type": "code",
   "execution_count": 52,
   "metadata": {},
   "outputs": [
    {
     "name": "stdout",
     "output_type": "stream",
     "text": [
      "double powers : [4000, 6000, 8000, 3000]\n",
      "powers : [2000, 3000, 4000, 1500]\n"
     ]
    }
   ],
   "source": [
    "\n",
    "# Task: Double the power\n",
    "# Output\n",
    "# doubled_powers -> [4000, 6000, 8000, 3000]\n",
    "# powers -> [2000, 3000, 4000, 1500]\n",
    "\n",
    "powers = [2000, 3000, 4000, 1500]\n",
    "double_powers = []\n",
    "for i in range(len(powers)):\n",
    "    double_powers.append(powers[i]*2)\n",
    "\n",
    "print(f\"double powers : {double_powers}\")\n",
    "print(f\"powers : {powers}\")\n",
    "\n",
    "\n"
   ]
  },
  {
   "cell_type": "markdown",
   "metadata": {},
   "source": [
    "## `ipynb` -> Interactiove Python Notebook\n",
    "\n"
   ]
  },
  {
   "cell_type": "markdown",
   "metadata": {},
   "source": [
    "## Task 2.1\n",
    "Find longer names (>= 6 letter)\n",
    "\n",
    "`characters = ['Hello kitty', 'Goku', 'Pikachu', 'Luffy', 'Yuji Itadori', \"Levi\"]`\n",
    "\n",
    "### Expected Output\n",
    "`['Hello kitty', 'Pikachu', 'Yuji Itadori']`"
   ]
  },
  {
   "cell_type": "code",
   "execution_count": 17,
   "metadata": {},
   "outputs": [
    {
     "name": "stdout",
     "output_type": "stream",
     "text": [
      "['Hello kitty', 'Pikachu', 'Yuji Itadori']\n"
     ]
    }
   ],
   "source": [
    "characters = ['Hello kitty', 'Goku', 'Pikachu', 'Luffy', 'Yuji Itadori', \"Levi\"]\n",
    "targets = [] \n",
    "for i in range(len(characters)):\n",
    "    if len(characters[i]) >= 6:\n",
    "        targets.append(characters[i])\n",
    "print(targets)\n",
    "\n"
   ]
  },
  {
   "cell_type": "code",
   "execution_count": 26,
   "metadata": {},
   "outputs": [
    {
     "name": "stdout",
     "output_type": "stream",
     "text": [
      "['Hello kitty', 'Pikachu', 'Yuji Itadori']\n"
     ]
    }
   ],
   "source": [
    "characters = ['Hello kitty', 'Goku', 'Pikachu', 'Luffy', 'Yuji Itadori', \"Levi\"]\n",
    "targets = [] \n",
    "for character in characters:\n",
    "    if len(character) >= 6:\n",
    "        targets.append(character)\n",
    "print(targets)\n",
    "\n"
   ]
  },
  {
   "cell_type": "markdown",
   "metadata": {},
   "source": [
    "## Task 2.2\n",
    "\n",
    "Calculate the total of shopping_items & apply tax of 10%\n",
    "\n",
    "```py\n",
    "shopping_items = [1000, 5000,  4000, 2000, 3000]\n",
    "```\n",
    "\n",
    "Expected Output\n",
    "\n",
    "```\n",
    "Your totals is 15,000\n",
    "Tax is 10%      1,500 \n",
    "Your grand total is 16,500\n",
    "```"
   ]
  },
  {
   "cell_type": "code",
   "execution_count": 29,
   "metadata": {},
   "outputs": [
    {
     "name": "stdout",
     "output_type": "stream",
     "text": [
      "Your totals is ¥15,001.5\n",
      "Tax is 10% ¥1,500.15\n",
      "Your grand total is ¥16,501.65\n"
     ]
    }
   ],
   "source": [
    "shopping_items = [1000, 5000.80,  4000.7, 2000, 3000]\n",
    "total = 0\n",
    "tax_percent = 0.1\n",
    "for i in range(len(shopping_items)):\n",
    "    total = total + shopping_items[i]\n",
    "tax = total * tax_percent\n",
    "\n",
    "print(f\"\"\"Your totals is ¥{total:,}\n",
    "Tax is 10% ¥{tax:,}\n",
    "Your grand total is ¥{(total+tax):,}\"\"\")"
   ]
  },
  {
   "cell_type": "code",
   "execution_count": 65,
   "metadata": {},
   "outputs": [
    {
     "name": "stdout",
     "output_type": "stream",
     "text": [
      "      Your totals is       ¥15,001.5\n",
      "      Tax is 10%           ¥1,500.15\n",
      "      Your grand total is  ¥16,501.65\n"
     ]
    }
   ],
   "source": [
    "shopping_items = [1000, 5000.80,  4000.7, 2000, 3000]\n",
    "total = 0\n",
    "tax_percent = 0.1\n",
    "\n",
    "\n",
    "for price in shopping_items:\n",
    "    total = total + price\n",
    "tax = total * tax_percent\n",
    "\n",
    "print(f'''\\\n",
    "      Your totals is       ¥{total:,}\n",
    "      Tax is 10%           ¥{tax:,}\n",
    "      Your grand total is  ¥{(total+tax):,}''')"
   ]
  },
  {
   "cell_type": "markdown",
   "metadata": {},
   "source": [
    "## Numeric Separater (_)\n",
    "```py\n",
    "print(type(420_000))\n",
    "print(type(420000))"
   ]
  }
 ],
 "metadata": {
  "kernelspec": {
   "display_name": "Python 3",
   "language": "python",
   "name": "python3"
  },
  "language_info": {
   "codemirror_mode": {
    "name": "ipython",
    "version": 3
   },
   "file_extension": ".py",
   "mimetype": "text/x-python",
   "name": "python",
   "nbconvert_exporter": "python",
   "pygments_lexer": "ipython3",
   "version": "3.13.0"
  }
 },
 "nbformat": 4,
 "nbformat_minor": 2
}
