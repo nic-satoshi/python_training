{
 "cells": [
  {
   "cell_type": "markdown",
   "metadata": {},
   "source": []
  },
  {
   "cell_type": "code",
   "execution_count": 15,
   "metadata": {},
   "outputs": [
    {
     "name": "stdout",
     "output_type": "stream",
     "text": [
      "[90, 80, 60]\n",
      "['100', '100', '100']\n"
     ]
    }
   ],
   "source": [
    "marks = [90,80,60]\n",
    "\n",
    "marks2 = [\"100\" for mark in marks]\n",
    "print(marks)\n",
    "print(marks2)"
   ]
  },
  {
   "cell_type": "code",
   "execution_count": null,
   "metadata": {},
   "outputs": [
    {
     "name": "stdout",
     "output_type": "stream",
     "text": [
      "[90, 80, 60]\n",
      "[90, 80, 60]\n",
      "[90, 80]\n",
      "[180, 160]\n"
     ]
    }
   ],
   "source": [
    "\n",
    "# transformation\n",
    "dbl_marks = [mark*2 for mark in marks]\n",
    "print(marks)\n",
    "\n",
    "# filter with comprehension\n",
    "highest_marks = [mark for mark in marks if mark > 70]\n",
    "print(highest_marks)\n",
    "\n",
    "# transformation and filter\n",
    "highest_and_double = [mark*2 for mark in marks if mark > 70]\n",
    "print(highest_and_double)\n"
   ]
  },
  {
   "cell_type": "markdown",
   "metadata": {},
   "source": [
    "## Task 1.1\n",
    "Please provide the list of book titles\n",
    "\n",
    "\n",
    "```python\n",
    "books = [\n",
    "    {\"title\": \"Infinite Jest\", \"rating\": 4.5, \"genre\": \"Fiction\"},\n",
    "    {\"title\": \"The Catcher in the Rye\", \"rating\": 3.9, \"genre\": \"Fiction\"},\n",
    "    {\"title\": \"Sapiens\", \"rating\": 4.9, \"genre\": \"History\"},\n",
    "    {\"title\": \"A Brief History of Time\", \"rating\": 4.8, \"genre\": \"Science\"},\n",
    "    {\"title\": \"Clean Code\", \"rating\": 4.7, \"genre\": \"Technology\"},\n",
    "]"
   ]
  },
  {
   "cell_type": "code",
   "execution_count": null,
   "metadata": {},
   "outputs": [
    {
     "name": "stdout",
     "output_type": "stream",
     "text": [
      "['Infinite Jest', 'The Catcher in the Rye', 'Sapiens', 'A Brief History of Time', 'Clean Code']\n",
      "['Infinite Jest', 'The Catcher in the Rye']\n",
      "Highest rated books are: Sapiens, A Brief History of Time and Clean Code\n",
      "Average rating of Fiction: 4.2\n"
     ]
    }
   ],
   "source": [
    "books = [\n",
    "    {\"title\": \"Infinite Jest\", \"rating\": 4.5, \"genre\": \"Fiction\"},\n",
    "    {\"title\": \"The Catcher in the Rye\", \"rating\": 3.9, \"genre\": \"Fiction\"},\n",
    "    {\"title\": \"Sapiens\", \"rating\": 4.9, \"genre\": \"History\"},\n",
    "    {\"title\": \"A Brief History of Time\", \"rating\": 4.8, \"genre\": \"Science\"},\n",
    "    {\"title\": \"Clean Code\", \"rating\": 4.7, \"genre\": \"Technology\"},\n",
    "]\n",
    "\n",
    "# task1\n",
    "title_list = [book[\"title\"] for book in books]\n",
    "print(title_list)\n",
    "\n",
    "# task2\n",
    "fiction_list = [book[\"title\"] for book in books if book[\"genre\"]==\"Fiction\"]\n",
    "print(fiction_list)\n",
    "\n",
    "# task3\n",
    "highest_rated_list = [book[\"title\"] for book in books if book[\"rating\"]>=4.7]\n",
    "highest_rated_list_string = \", \".join(highest_rated_list[:-1])+\" and \"+highest_rated_list[-1]\n",
    "print(f\"Highest rated books are: {highest_rated_list_string}\")\n",
    "\n",
    "# task4\n",
    "genre = input(\"input genre : \")\n",
    "target_list = [book[\"rating\"] for book in books if book[\"genre\"].lower() == genre]\n",
    "if len(target_list) != 0:\n",
    "    print(f\"Average rating of Fiction: {sum(target_list)/len(target_list)}\")\n",
    "else:\n",
    "    print(f\"There is no {genre}\")\n",
    "\n",
    "# task5"
   ]
  },
  {
   "cell_type": "code",
   "execution_count": 43,
   "metadata": {},
   "outputs": [
    {
     "name": "stdout",
     "output_type": "stream",
     "text": [
      "Fiction : 2\n",
      "History : 1\n",
      "Science : 1\n",
      "Technology : 1\n"
     ]
    }
   ],
   "source": [
    "# task5\n",
    "\n",
    "books = [\n",
    "    {\"title\": \"Infinite Jest\", \"rating\": 4.5, \"genre\": \"Fiction\"},\n",
    "    {\"title\": \"The Catcher in the Rye\", \"rating\": 3.9, \"genre\": \"Fiction\"},\n",
    "    {\"title\": \"Sapiens\", \"rating\": 4.9, \"genre\": \"History\"},\n",
    "    {\"title\": \"A Brief History of Time\", \"rating\": 4.8, \"genre\": \"Science\"},\n",
    "    {\"title\": \"Clean Code\", \"rating\": 4.7, \"genre\": \"Technology\"},\n",
    "]\n",
    "\n",
    "outputs = {}\n",
    "\n",
    "for book in books:\n",
    "    if outputs.get(book[\"genre\"]):\n",
    "        outputs[book[\"genre\"]] += 1\n",
    "    else:\n",
    "        outputs[book[\"genre\"]] = 1\n",
    "\n",
    "for output in outputs:\n",
    "    print(f\"{output} : {outputs.get(str(output))}\")\n"
   ]
  },
  {
   "cell_type": "code",
   "execution_count": 18,
   "metadata": {},
   "outputs": [
    {
     "data": {
      "text/plain": [
       "{'a': 1}"
      ]
     },
     "execution_count": 18,
     "metadata": {},
     "output_type": "execute_result"
    }
   ],
   "source": [
    "output = {}\n",
    "\n",
    "output['a'] = 1\n",
    "\n",
    "output"
   ]
  }
 ],
 "metadata": {
  "kernelspec": {
   "display_name": "Python 3",
   "language": "python",
   "name": "python3"
  },
  "language_info": {
   "codemirror_mode": {
    "name": "ipython",
    "version": 3
   },
   "file_extension": ".py",
   "mimetype": "text/x-python",
   "name": "python",
   "nbconvert_exporter": "python",
   "pygments_lexer": "ipython3",
   "version": "3.13.0"
  }
 },
 "nbformat": 4,
 "nbformat_minor": 2
}
